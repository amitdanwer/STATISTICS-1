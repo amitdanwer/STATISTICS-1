{
 "cells": [
  {
   "cell_type": "code",
   "execution_count": 10,
   "metadata": {},
   "outputs": [],
   "source": [
    "import statistics"
   ]
  },
  {
   "cell_type": "code",
   "execution_count": 14,
   "metadata": {},
   "outputs": [
    {
     "name": "stdout",
     "output_type": "stream",
     "text": [
      "variance is 5183.25\n"
     ]
    }
   ],
   "source": [
    "height_trees=[3, 21, 98, 203, 17, 9]\n",
    "\n",
    "height_trees_float=[]\n",
    "\n",
    "# Convert int to float\n",
    "height_trees_float=[float(i) for i in height_trees]\n",
    "\n",
    "\n",
    "## Calcuate Variance\n",
    "print(\"variance is \"+str(statistics.pvariance(height_trees_float)))"
   ]
  },
  {
   "cell_type": "code",
   "execution_count": null,
   "metadata": {},
   "outputs": [],
   "source": []
  }
 ],
 "metadata": {
  "kernelspec": {
   "display_name": "Python 3",
   "language": "python",
   "name": "python3"
  },
  "language_info": {
   "codemirror_mode": {
    "name": "ipython",
    "version": 3
   },
   "file_extension": ".py",
   "mimetype": "text/x-python",
   "name": "python",
   "nbconvert_exporter": "python",
   "pygments_lexer": "ipython3",
   "version": "3.6.4"
  }
 },
 "nbformat": 4,
 "nbformat_minor": 2
}
