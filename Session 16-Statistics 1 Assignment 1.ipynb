{
 "cells": [
  {
   "cell_type": "code",
   "execution_count": 14,
   "metadata": {},
   "outputs": [],
   "source": [
    "import statistics"
   ]
  },
  {
   "cell_type": "code",
   "execution_count": 15,
   "metadata": {},
   "outputs": [
    {
     "name": "stdout",
     "output_type": "stream",
     "text": [
      "Standar Deviation is $367.9900360969936\n"
     ]
    }
   ],
   "source": [
    "Avg_rent=['$1550', '$1700', '$900', '$850', '$1000', '$950']\n",
    "Avg_rent_str=[]\n",
    "Avg_rent_float=[]\n",
    "\n",
    "## Convert string list values to float and remove $\n",
    "Avg_rent_float=[float(i[1:]) for i in Avg_rent]\n",
    "\n",
    "\n",
    "## Calcuate standard Deviation \n",
    "print(\"Standar Deviation is $\"+str(statistics.stdev(Avg_rent_float)))\n"
   ]
  },
  {
   "cell_type": "code",
   "execution_count": null,
   "metadata": {},
   "outputs": [],
   "source": []
  }
 ],
 "metadata": {
  "kernelspec": {
   "display_name": "Python 3",
   "language": "python",
   "name": "python3"
  },
  "language_info": {
   "codemirror_mode": {
    "name": "ipython",
    "version": 3
   },
   "file_extension": ".py",
   "mimetype": "text/x-python",
   "name": "python",
   "nbconvert_exporter": "python",
   "pygments_lexer": "ipython3",
   "version": "3.6.4"
  }
 },
 "nbformat": 4,
 "nbformat_minor": 2
}
